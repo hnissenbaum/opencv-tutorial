{
 "cells": [
  {
   "cell_type": "code",
   "execution_count": 12,
   "metadata": {},
   "outputs": [
    {
     "name": "stdout",
     "output_type": "stream",
     "text": [
      "uint8\n"
     ]
    }
   ],
   "source": [
    "import cv2\n",
    "img = cv2.imread('./imgs/im.jpg', -1)\n",
    "cv2.imshow('Image', img)\n",
    "cv2.waitKey(0)\n",
    "cv2.destroyAllWindows()\n",
    "\n",
    "print(img.dtype)\n",
    "imgcopy = img.copy()\n",
    "\n",
    "imgcopy = cv2.resize(imgcopy, (0, 0), fx=0.5, fy=0.5)\n",
    "imgcopy = cv2.rotate(imgcopy, cv2.ROTATE_90_COUNTERCLOCKWISE)\n",
    "\n",
    "\n",
    "cv2.imwrite('new_img.jpg', imgcopy)\n",
    "\n",
    "cv2.imshow('Image Copy', imgcopy)\n",
    "cv2.waitKey(0)\n",
    "cv2.destroyAllWindows()"
   ]
  },
  {
   "cell_type": "code",
   "execution_count": 8,
   "metadata": {},
   "outputs": [],
   "source": [
    "import cv2\n",
    "import random\n",
    "\n",
    "img = cv2.imread('imgs/im.jpg', -1)\n",
    "\n",
    "# Change border to random pixels\n",
    "\n",
    "#top border\n",
    "for i in range(100):\n",
    "\tfor j in range(img.shape[1]):\n",
    "\t\timg[i][j] = [random.randint(0, 255), random.randint(0, 255), random.randint(0, 255)]\n",
    "\n",
    "#left border\n",
    "for i in range(img.shape[0]):    \n",
    "    for j in range(100):\n",
    "        img[i][j] = [random.randint(0, 255), random.randint(0, 255), random.randint(0, 255)]\n",
    "\n",
    "#right border\n",
    "for i in range(img.shape[1]-100, (img.shape[1])):    \n",
    "    for j in range(img.shape[0]):\n",
    "        img[j][i] = [random.randint(0, 255), random.randint(0, 255), random.randint(0, 255)]\n",
    "\n",
    "#bottom border\n",
    "for i in range(img.shape[0]-100, (img.shape[0])):    \n",
    "    for j in range(img.shape[1]):\n",
    "        img[i][j] = [random.randint(0, 255), random.randint(0, 255), random.randint(0, 255)]\n",
    "\n",
    "cv2.imshow('Image', img)\n",
    "cv2.waitKey(0)\n",
    "cv2.destroyAllWindows()"
   ]
  },
  {
   "cell_type": "code",
   "execution_count": 16,
   "metadata": {},
   "outputs": [],
   "source": [
    "import cv2\n",
    "\n",
    "img = cv2.imread('imgs/im.jpg', -1)\n",
    "\n",
    "# Copy part of image\n",
    "tag = img[200:400, 400:700]\n",
    "img[100:300, 700:1000] = tag\n",
    "\n",
    "cv2.imshow('Image', img)\n",
    "cv2.waitKey(0)\n",
    "cv2.destroyAllWindows()"
   ]
  }
 ],
 "metadata": {
  "interpreter": {
   "hash": "f08b75b7b413c0ac848505eefaeb37e7a5a6b7fa13b163949dba4ec553722e66"
  },
  "kernelspec": {
   "display_name": "Python 3.9.9 64-bit (windows store)",
   "language": "python",
   "name": "python3"
  },
  "language_info": {
   "codemirror_mode": {
    "name": "ipython",
    "version": 3
   },
   "file_extension": ".py",
   "mimetype": "text/x-python",
   "name": "python",
   "nbconvert_exporter": "python",
   "pygments_lexer": "ipython3",
   "version": "3.9.9"
  },
  "orig_nbformat": 4
 },
 "nbformat": 4,
 "nbformat_minor": 2
}
